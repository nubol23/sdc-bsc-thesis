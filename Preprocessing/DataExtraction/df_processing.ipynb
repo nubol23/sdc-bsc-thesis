{
 "cells": [
  {
   "cell_type": "code",
   "execution_count": 1,
   "metadata": {},
   "outputs": [],
   "source": [
    "import os\n",
    "from pathlib import Path"
   ]
  },
  {
   "cell_type": "code",
   "execution_count": 2,
   "metadata": {},
   "outputs": [],
   "source": [
    "def listdir_date(dirpath):\n",
    "    return map(lambda p: str(p).split('/')[-1], sorted(Path(dirpath).iterdir(), key=os.path.getmtime))"
   ]
  },
  {
   "cell_type": "code",
   "execution_count": 3,
   "metadata": {},
   "outputs": [],
   "source": [
    "path = '/home/nubol23/Documents/DriveDatasetStable/Train/Dfs'\n",
    "# path = '/home/nubol23/Documents/DriveDatasetStable/Val/Dfs'"
   ]
  },
  {
   "cell_type": "code",
   "execution_count": 2,
   "metadata": {},
   "outputs": [],
   "source": [
    "import pandas as pd"
   ]
  },
  {
   "cell_type": "code",
   "execution_count": 5,
   "metadata": {},
   "outputs": [],
   "source": [
    "dfs = [(file, pd.read_csv(f'{path}/{file}')) for file in listdir_date(path)]"
   ]
  },
  {
   "cell_type": "code",
   "execution_count": 6,
   "metadata": {},
   "outputs": [
    {
     "data": {
      "text/plain": [
       "50"
      ]
     },
     "execution_count": 6,
     "metadata": {},
     "output_type": "execute_result"
    }
   ],
   "source": [
    "len(dfs)"
   ]
  },
  {
   "cell_type": "code",
   "execution_count": 7,
   "metadata": {},
   "outputs": [],
   "source": [
    "for filename, df in dfs:\n",
    "    names = [f'{filename.split(\".\")[0]}/{i}.png' for i in range(len(df))]\n",
    "    df['filenames'] = names"
   ]
  },
  {
   "cell_type": "code",
   "execution_count": 8,
   "metadata": {},
   "outputs": [
    {
     "data": {
      "text/plain": [
       "(400000, 5)"
      ]
     },
     "execution_count": 8,
     "metadata": {},
     "output_type": "execute_result"
    }
   ],
   "source": [
    "whole_dataset = pd.concat(list(map(lambda x: x[1], dfs)))\n",
    "\n",
    "whole_dataset.shape"
   ]
  },
  {
   "cell_type": "code",
   "execution_count": 9,
   "metadata": {},
   "outputs": [
    {
     "data": {
      "text/html": [
       "<div>\n",
       "<style scoped>\n",
       "    .dataframe tbody tr th:only-of-type {\n",
       "        vertical-align: middle;\n",
       "    }\n",
       "\n",
       "    .dataframe tbody tr th {\n",
       "        vertical-align: top;\n",
       "    }\n",
       "\n",
       "    .dataframe thead th {\n",
       "        text-align: right;\n",
       "    }\n",
       "</style>\n",
       "<table border=\"1\" class=\"dataframe\">\n",
       "  <thead>\n",
       "    <tr style=\"text-align: right;\">\n",
       "      <th></th>\n",
       "      <th>throttle</th>\n",
       "      <th>brake</th>\n",
       "      <th>steer</th>\n",
       "      <th>junction</th>\n",
       "      <th>filenames</th>\n",
       "    </tr>\n",
       "  </thead>\n",
       "  <tbody>\n",
       "    <tr>\n",
       "      <th>0</th>\n",
       "      <td>0.0</td>\n",
       "      <td>0.0</td>\n",
       "      <td>0.000000</td>\n",
       "      <td>False</td>\n",
       "      <td>0/0.png</td>\n",
       "    </tr>\n",
       "    <tr>\n",
       "      <th>1</th>\n",
       "      <td>0.7</td>\n",
       "      <td>0.0</td>\n",
       "      <td>-0.501075</td>\n",
       "      <td>False</td>\n",
       "      <td>0/1.png</td>\n",
       "    </tr>\n",
       "    <tr>\n",
       "      <th>2</th>\n",
       "      <td>0.7</td>\n",
       "      <td>0.0</td>\n",
       "      <td>-0.144204</td>\n",
       "      <td>False</td>\n",
       "      <td>0/2.png</td>\n",
       "    </tr>\n",
       "    <tr>\n",
       "      <th>3</th>\n",
       "      <td>0.7</td>\n",
       "      <td>0.0</td>\n",
       "      <td>-0.145396</td>\n",
       "      <td>False</td>\n",
       "      <td>0/3.png</td>\n",
       "    </tr>\n",
       "    <tr>\n",
       "      <th>4</th>\n",
       "      <td>0.7</td>\n",
       "      <td>0.0</td>\n",
       "      <td>-0.146945</td>\n",
       "      <td>False</td>\n",
       "      <td>0/4.png</td>\n",
       "    </tr>\n",
       "  </tbody>\n",
       "</table>\n",
       "</div>"
      ],
      "text/plain": [
       "   throttle  brake     steer  junction filenames\n",
       "0       0.0    0.0  0.000000     False   0/0.png\n",
       "1       0.7    0.0 -0.501075     False   0/1.png\n",
       "2       0.7    0.0 -0.144204     False   0/2.png\n",
       "3       0.7    0.0 -0.145396     False   0/3.png\n",
       "4       0.7    0.0 -0.146945     False   0/4.png"
      ]
     },
     "execution_count": 9,
     "metadata": {},
     "output_type": "execute_result"
    }
   ],
   "source": [
    "whole_dataset.head()"
   ]
  },
  {
   "cell_type": "code",
   "execution_count": 10,
   "metadata": {},
   "outputs": [],
   "source": [
    "whole_dataset.to_csv('/home/nubol23/Documents/DriveDatasetStable/Train/train_dataset.csv', index=False)\n",
    "# whole_dataset.to_csv('/home/nubol23/Documents/DriveDatasetStable/Val/val_dataset.csv', index=False)"
   ]
  },
  {
   "cell_type": "code",
   "execution_count": 18,
   "metadata": {},
   "outputs": [
    {
     "data": {
      "text/plain": [
       "'/home/nubol23/Documents/DriveDatasetStable/Train/Images/0/rgb/1.png'"
      ]
     },
     "execution_count": 18,
     "metadata": {},
     "output_type": "execute_result"
    }
   ],
   "source": [
    "root_dir = '/home/nubol23/Documents/DriveDatasetStable/Train/train_dataset.csv'\n",
    "temp = root_dir.split('/')\n",
    "root_dir_fin = '/'.join(temp[:-1])\n",
    "\n",
    "data = whole_dataset['filenames'].tolist()\n",
    "\n",
    "idx=1\n",
    "folder, file = data[idx].split('/')\n",
    "os.path.join(root_dir_fin, 'Images', folder, 'rgb', file)"
   ]
  },
  {
   "cell_type": "code",
   "execution_count": 3,
   "metadata": {},
   "outputs": [
    {
     "data": {
      "text/plain": [
       "(400000, 5)"
      ]
     },
     "execution_count": 3,
     "metadata": {},
     "output_type": "execute_result"
    }
   ],
   "source": [
    "df = pd.read_csv('/home/nubol23/Documents/DriveDatasetStable/Train/train_dataset.csv')\n",
    "\n",
    "df.shape"
   ]
  },
  {
   "cell_type": "code",
   "execution_count": 5,
   "metadata": {},
   "outputs": [
    {
     "data": {
      "text/plain": [
       "(218740, 5)"
      ]
     },
     "execution_count": 5,
     "metadata": {},
     "output_type": "execute_result"
    }
   ],
   "source": [
    "df.query('throttle != 0.0').shape"
   ]
  },
  {
   "cell_type": "code",
   "execution_count": 6,
   "metadata": {},
   "outputs": [
    {
     "data": {
      "text/html": [
       "<div>\n",
       "<style scoped>\n",
       "    .dataframe tbody tr th:only-of-type {\n",
       "        vertical-align: middle;\n",
       "    }\n",
       "\n",
       "    .dataframe tbody tr th {\n",
       "        vertical-align: top;\n",
       "    }\n",
       "\n",
       "    .dataframe thead th {\n",
       "        text-align: right;\n",
       "    }\n",
       "</style>\n",
       "<table border=\"1\" class=\"dataframe\">\n",
       "  <thead>\n",
       "    <tr style=\"text-align: right;\">\n",
       "      <th></th>\n",
       "      <th>throttle</th>\n",
       "      <th>brake</th>\n",
       "      <th>steer</th>\n",
       "      <th>junction</th>\n",
       "      <th>filenames</th>\n",
       "    </tr>\n",
       "  </thead>\n",
       "  <tbody>\n",
       "    <tr>\n",
       "      <th>83370</th>\n",
       "      <td>0.000000</td>\n",
       "      <td>1.0</td>\n",
       "      <td>0.036075</td>\n",
       "      <td>False</td>\n",
       "      <td>10/3370.png</td>\n",
       "    </tr>\n",
       "    <tr>\n",
       "      <th>199534</th>\n",
       "      <td>0.000000</td>\n",
       "      <td>1.0</td>\n",
       "      <td>0.007800</td>\n",
       "      <td>False</td>\n",
       "      <td>24/7534.png</td>\n",
       "    </tr>\n",
       "    <tr>\n",
       "      <th>208051</th>\n",
       "      <td>0.700000</td>\n",
       "      <td>0.0</td>\n",
       "      <td>0.000169</td>\n",
       "      <td>False</td>\n",
       "      <td>26/51.png</td>\n",
       "    </tr>\n",
       "    <tr>\n",
       "      <th>336562</th>\n",
       "      <td>0.000000</td>\n",
       "      <td>1.0</td>\n",
       "      <td>0.002629</td>\n",
       "      <td>False</td>\n",
       "      <td>42/562.png</td>\n",
       "    </tr>\n",
       "    <tr>\n",
       "      <th>122354</th>\n",
       "      <td>0.382724</td>\n",
       "      <td>0.0</td>\n",
       "      <td>0.001306</td>\n",
       "      <td>False</td>\n",
       "      <td>15/2354.png</td>\n",
       "    </tr>\n",
       "    <tr>\n",
       "      <th>225356</th>\n",
       "      <td>0.700000</td>\n",
       "      <td>0.0</td>\n",
       "      <td>0.000217</td>\n",
       "      <td>False</td>\n",
       "      <td>28/1356.png</td>\n",
       "    </tr>\n",
       "    <tr>\n",
       "      <th>21024</th>\n",
       "      <td>0.000000</td>\n",
       "      <td>1.0</td>\n",
       "      <td>0.105832</td>\n",
       "      <td>False</td>\n",
       "      <td>2/5024.png</td>\n",
       "    </tr>\n",
       "    <tr>\n",
       "      <th>63429</th>\n",
       "      <td>0.382725</td>\n",
       "      <td>0.0</td>\n",
       "      <td>0.001601</td>\n",
       "      <td>False</td>\n",
       "      <td>7/7429.png</td>\n",
       "    </tr>\n",
       "    <tr>\n",
       "      <th>80732</th>\n",
       "      <td>0.371147</td>\n",
       "      <td>0.0</td>\n",
       "      <td>-0.000480</td>\n",
       "      <td>False</td>\n",
       "      <td>10/732.png</td>\n",
       "    </tr>\n",
       "    <tr>\n",
       "      <th>172483</th>\n",
       "      <td>0.381042</td>\n",
       "      <td>0.0</td>\n",
       "      <td>-0.093046</td>\n",
       "      <td>False</td>\n",
       "      <td>21/4483.png</td>\n",
       "    </tr>\n",
       "  </tbody>\n",
       "</table>\n",
       "</div>"
      ],
      "text/plain": [
       "        throttle  brake     steer  junction    filenames\n",
       "83370   0.000000    1.0  0.036075     False  10/3370.png\n",
       "199534  0.000000    1.0  0.007800     False  24/7534.png\n",
       "208051  0.700000    0.0  0.000169     False    26/51.png\n",
       "336562  0.000000    1.0  0.002629     False   42/562.png\n",
       "122354  0.382724    0.0  0.001306     False  15/2354.png\n",
       "225356  0.700000    0.0  0.000217     False  28/1356.png\n",
       "21024   0.000000    1.0  0.105832     False   2/5024.png\n",
       "63429   0.382725    0.0  0.001601     False   7/7429.png\n",
       "80732   0.371147    0.0 -0.000480     False   10/732.png\n",
       "172483  0.381042    0.0 -0.093046     False  21/4483.png"
      ]
     },
     "execution_count": 6,
     "metadata": {},
     "output_type": "execute_result"
    }
   ],
   "source": [
    "df.sample(10)"
   ]
  }
 ],
 "metadata": {
  "kernelspec": {
   "display_name": "Python 3",
   "language": "python",
   "name": "python3"
  },
  "language_info": {
   "codemirror_mode": {
    "name": "ipython",
    "version": 3
   },
   "file_extension": ".py",
   "mimetype": "text/x-python",
   "name": "python",
   "nbconvert_exporter": "python",
   "pygments_lexer": "ipython3",
   "version": "3.6.10"
  }
 },
 "nbformat": 4,
 "nbformat_minor": 4
}
